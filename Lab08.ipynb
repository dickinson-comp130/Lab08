{
 "cells": [
  {
   "cell_type": "markdown",
   "metadata": {},
   "source": [
    "# LAB 08 - Ethical Issues with Driverless Vehicles  \n",
    "**COMP130 - Introduction to Computing**  \n",
    "**Dickinson College**  \n"
   ]
  },
  {
   "cell_type": "markdown",
   "metadata": {},
   "source": [
    "### Names:"
   ]
  },
  {
   "cell_type": "markdown",
   "metadata": {},
   "source": []
  },
  {
   "cell_type": "markdown",
   "metadata": {},
   "source": [
    "## Introduction:\n",
    "\n",
    "Most automobile manufacturers and many technology companies have been working on bringing driverless vehicles to the roads for many years now.  These vehicles hold the promise to dramatically decrease road congestion while also significantly reducing the number and severity of accidents. With these benefits comes the challenge of programming the vehicles to make ethical decisions in difficult situations that involve inevitable harm.  In this lab you will identify some of the factors that might go into those decisions and explore the social ramifications of how these decisions are made.\n",
    "\n",
    "## Pre-Lab Preparation:\n",
    "\n",
    "Before coming to lab watch the video and read the article [Should Your Driverless Car Hit a Pedestrian to Save Your Life?](https://www.nytimes.com/2016/06/24/technology/should-your-driverless-car-hit-a-pedestrian-to-save-your-life.html)\n",
    "\n",
    "[![Driverless Car](https://static01.nyt.com/images/2016/06/22/multimedia/autonomous-cars-ethics/autonomous-cars-ethics-mediumThreeByTwo440.jpg)](https://www.nytimes.com/2016/06/24/technology/should-your-driverless-car-hit-a-pedestrian-to-save-your-life.html)"
   ]
  },
  {
   "cell_type": "markdown",
   "metadata": {
    "deletable": false,
    "editable": false
   },
   "source": [
    "## Preliminary Questions:\n",
    "\n",
    "**Q1:** State and briefly explain the ethical principle proposed by Jeremy Bentham."
   ]
  },
  {
   "cell_type": "markdown",
   "metadata": {},
   "source": []
  },
  {
   "cell_type": "markdown",
   "metadata": {
    "deletable": false,
    "editable": false,
    "run_control": {
     "frozen": true
    }
   },
   "source": [
    "**Q2:** What does that principle suggest that a driverless car should do when faced with situation that involves inevitable harm? "
   ]
  },
  {
   "cell_type": "markdown",
   "metadata": {},
   "source": []
  },
  {
   "cell_type": "markdown",
   "metadata": {
    "deletable": false,
    "editable": false
   },
   "source": [
    "**Q3:** State and briefly explain the ethical principle proposed by Immanuel Kant."
   ]
  },
  {
   "cell_type": "markdown",
   "metadata": {},
   "source": []
  },
  {
   "cell_type": "markdown",
   "metadata": {
    "deletable": false,
    "editable": false,
    "run_control": {
     "frozen": true
    }
   },
   "source": [
    "**Q4:** What does that ethical principle suggest that a driverless car should do when faced with a situation involving inevitable harm?"
   ]
  },
  {
   "cell_type": "markdown",
   "metadata": {},
   "source": []
  },
  {
   "cell_type": "markdown",
   "metadata": {
    "deletable": false,
    "editable": false,
    "run_control": {
     "frozen": true
    }
   },
   "source": [
    "**Q5:** Consider the following four factors that might be considered when programming the behavior of a driverless car:\n",
    "\n",
    "- Saving more lives\n",
    "- Protecting passengers\n",
    "- Upholding the law\n",
    "- Avoiding Intervention\n",
    "\n",
    "Which of these factors are most consistent with Bentham's principle? Explain."
   ]
  },
  {
   "cell_type": "markdown",
   "metadata": {},
   "source": []
  },
  {
   "cell_type": "markdown",
   "metadata": {
    "deletable": false,
    "editable": false,
    "run_control": {
     "frozen": true
    }
   },
   "source": [
    "**Q6:** Are the factors you did not consider in Q5 consistent with Kant's principle? Explain."
   ]
  },
  {
   "cell_type": "markdown",
   "metadata": {},
   "source": []
  },
  {
   "cell_type": "markdown",
   "metadata": {
    "deletable": false,
    "editable": false,
    "run_control": {
     "frozen": true
    }
   },
   "source": [
    "## Activity:\n",
    "\n",
    "The [Moral Machine](http://moralmachine.mit.edu/) is a site created by the researchers from the above videos to gather \"a human perspective on moral decisions made by machine intelligence, such as self-driving cars.\" The site presents a series of scenarios, like the one shown below in which there is inevitable harm and asks you what action a self-driving car should take in each. It then provides some summary information indicating what factors seemed to most influence your decisions. \n",
    "\n",
    "[![The Moral Machine](moralmachine.jpg)](http://moralmachine.mit.edu/)"
   ]
  },
  {
   "cell_type": "markdown",
   "metadata": {
    "deletable": false,
    "editable": false,
    "run_control": {
     "frozen": true
    }
   },
   "source": [
    "**Q7:** With your lab partner, use the Moral Machine site to judge a set of scenarios. Briefly describe any general rules that you and your partner used when judging the scenarios."
   ]
  },
  {
   "cell_type": "markdown",
   "metadata": {},
   "source": []
  },
  {
   "cell_type": "markdown",
   "metadata": {},
   "source": [
    "**Q8:** After you complete a set of scenarios The Moral Machine will indicate how much each of four factors from __Q5__ seem to matter in your judgments. Based on your results, list the four factors in order from _Mattered Most_ to _Mattered Least_."
   ]
  },
  {
   "cell_type": "markdown",
   "metadata": {},
   "source": []
  },
  {
   "cell_type": "markdown",
   "metadata": {
    "deletable": false,
    "editable": false,
    "run_control": {
     "frozen": true
    }
   },
   "source": [
    "**Q9:** Does the order of your list in **Q8** align more with Bentham or with Kant? Justify your answer."
   ]
  },
  {
   "cell_type": "markdown",
   "metadata": {},
   "source": []
  },
  {
   "cell_type": "markdown",
   "metadata": {},
   "source": [
    "## Modeling Scenarios:\n",
    "\n",
    "It is one thing for us as individuals to make judgments as you did with the Moral Machine, it is another to program those decisions into vehicles that will affect large numbers of people. Eventually we will be using simulations to explore the impact of encoding different ethical values into driverless cars. In order to do that we will need to model the scenarios that a driverless car might encounter.\n",
    "\n",
    "To do so this lab provides a module named `autonomous_vehicles` that contains an object named `Scenario`.  The `Scenario` object encapsulates information about the scenarios that our simulated self-driving cars will encounter. In particular it contains information about:\n",
    "- The number of passengers in the car.\n",
    "- The state of the left and right lanes including:\n",
    "  - whether a barrier exists in the lane.\n",
    "  - the number of pedestrians that will be killed if the car is in that lane.\n",
    "  - whether the pedestrian crossing signal for that lane is on or off.\n",
    "\n",
    "For the purposes of our simulations we will identify the lanes as left or right from the observer's perspective.  That is, in the images above the car and the barrier are in the left lane and the pedestrians are in the right lane.\n",
    "\n",
    "The code cell below imports the `autonomous_vehicles` module, creates a `Scenario` object and then outputs the result of calling each of the methods that the object supports. "
   ]
  },
  {
   "cell_type": "code",
   "execution_count": null,
   "metadata": {
    "deletable": false,
    "editable": false
   },
   "outputs": [],
   "source": [
    "import autonomous_vehicles as av\n",
    "\n",
    "s = av.Scenario(3, True, 0, False, False, 5, True)\n",
    "\n",
    "print (\"Passengers: \" + str(s.num_passengers()))\n",
    "print (\"Left Lane:\")\n",
    "print (\"  Barrier exits:      \" + str(s.left_barrier_exists()))\n",
    "print (\"  Pedestrians:        \" + str(s.left_num_pedestrians()))\n",
    "print (\"  Crossing signal on: \" + str(s.left_crossing_signal_on()))\n",
    "print (\"Right Lane:\")\n",
    "print (\"  Barrier exists:     \" + str(s.right_barrier_exists()))\n",
    "print (\"  Pedestrians:        \" + str(s.right_num_pedestrians()))\n",
    "print (\"  Crossing signal on: \" + str(s.right_crossing_signal_on()))"
   ]
  },
  {
   "cell_type": "markdown",
   "metadata": {},
   "source": [
    "**Q10:** Run the code in the above cell.  What do each of the parameters to the `Scenario` constructor indicate?"
   ]
  },
  {
   "cell_type": "markdown",
   "metadata": {},
   "source": []
  },
  {
   "cell_type": "markdown",
   "metadata": {
    "deletable": false,
    "editable": false,
    "run_control": {
     "frozen": true
    }
   },
   "source": [
    "**Q11:** In the cell below, give a statement that constructs a `Scenario` object representing the scene shown in the Moral Machine image above."
   ]
  },
  {
   "cell_type": "code",
   "execution_count": null,
   "metadata": {},
   "outputs": [],
   "source": []
  },
  {
   "cell_type": "markdown",
   "metadata": {},
   "source": [
    "In order to perform Monte-Carlo simulations we will need to have lots of different scenarios.  To facilitate this the  `Scenario` class has a method named `randomize()`.  This method randomizes the values in a `Scenario` object. The `randomize()` method also ensures that the the object is consistent (e.g. if there is a barrier there will not be any pedestrians, etc.)."
   ]
  },
  {
   "cell_type": "code",
   "execution_count": null,
   "metadata": {
    "deletable": false,
    "editable": false
   },
   "outputs": [],
   "source": [
    "s.randomize()\n",
    "\n",
    "print (\"Passengers: \" + str(s.num_passengers()))\n",
    "print (\"Left Lane:\")\n",
    "print (\"  Barrier exits:      \" + str(s.left_barrier_exists()))\n",
    "print (\"  Pedestrians:        \" + str(s.left_num_pedestrians()))\n",
    "print (\"  Crossing signal on: \" + str(s.left_crossing_signal_on()))\n",
    "print (\"Right Lane:\")\n",
    "print (\"  Barrier exists:     \" + str(s.right_barrier_exists()))\n",
    "print (\"  Pedestrians:        \" + str(s.right_num_pedestrians()))\n",
    "print (\"  Crossing signal on: \" + str(s.right_crossing_signal_on()))"
   ]
  },
  {
   "cell_type": "markdown",
   "metadata": {
    "deletable": false,
    "editable": false,
    "run_control": {
     "frozen": true
    }
   },
   "source": [
    "**Q12:** Run the code in the above cell over and over again. What are the smallest and largest numbers of passengers and pedestrians that appear?"
   ]
  },
  {
   "cell_type": "markdown",
   "metadata": {},
   "source": []
  },
  {
   "cell_type": "markdown",
   "metadata": {
    "deletable": false,
    "editable": false,
    "run_control": {
     "frozen": true
    }
   },
   "source": [
    "**Q13:** Are there ever pedestrians in a lane when there is a barrier in that lane?"
   ]
  },
  {
   "cell_type": "markdown",
   "metadata": {},
   "source": []
  },
  {
   "cell_type": "markdown",
   "metadata": {},
   "source": [
    "**Q14:** Does a `Scenario` ever occur in which there is a barrier in both lanes?"
   ]
  },
  {
   "cell_type": "markdown",
   "metadata": {},
   "source": []
  },
  {
   "cell_type": "markdown",
   "metadata": {
    "deletable": false,
    "editable": false,
    "run_control": {
     "frozen": true
    }
   },
   "source": [
    "## Encoding Ethics\n",
    "\n",
    "Now that we have a way to model scenarios, you will write code to simulate the decisions a driverless car might make based on different ethical principles."
   ]
  },
  {
   "cell_type": "markdown",
   "metadata": {
    "deletable": false,
    "editable": false,
    "run_control": {
     "frozen": true
    }
   },
   "source": [
    "### A Selfish Car"
   ]
  },
  {
   "cell_type": "markdown",
   "metadata": {},
   "source": [
    "**Q15:** In the cell below define a function that controls the car so that it preserves the passenger's lives at all cost.  This function accepts a _Scenario_ object and returns either the string `\"Stay\"` or the string `\"Swerve\"` indicating if the car should stay in its lane or swerve into the other lane.  The function should assume that the car is in the left lane. "
   ]
  },
  {
   "cell_type": "code",
   "execution_count": null,
   "metadata": {},
   "outputs": [],
   "source": []
  },
  {
   "cell_type": "markdown",
   "metadata": {
    "deletable": false,
    "editable": false,
    "run_control": {
     "frozen": true
    }
   },
   "source": [
    "The cell below contains a test that partially checks that your function is working correctly."
   ]
  },
  {
   "cell_type": "code",
   "execution_count": null,
   "metadata": {
    "deletable": false,
    "editable": false
   },
   "outputs": [],
   "source": [
    "import autonomous_vehicles as av\n",
    "\n",
    "s = av.Scenario(3, False, 5, True, True, 0, True)\n",
    "assert selfish_car(s) == \"Stay\", \"Swerved but should have stayed.\"\n",
    "print(\"Success!\")"
   ]
  },
  {
   "cell_type": "markdown",
   "metadata": {
    "deletable": false,
    "editable": false,
    "run_control": {
     "frozen": true
    }
   },
   "source": [
    "**Q16:** In the cell below add a test for another `Scenario` that tests the \"Swerve\" behavior of your selfish car."
   ]
  },
  {
   "cell_type": "code",
   "execution_count": null,
   "metadata": {},
   "outputs": [],
   "source": []
  },
  {
   "cell_type": "markdown",
   "metadata": {
    "deletable": false,
    "editable": false
   },
   "source": [
    "### A Utilitarian Car\n",
    "\n",
    "Next you will be writing a function that makes decisions based on Bentham's utilitarian principle. Because this principle will choose the option with the fewest fatalities we will need to be able to compare the number of fatalities that occur when the car \"Stays\" and when it \"Swerves.\"  So thinking ahead, its not hard to imagine that a function could help us with that.  So we'll make use of functional decomposition here and create a function that evaluates a `Scenario` and returns the number of fatalities that will occur."
   ]
  },
  {
   "cell_type": "markdown",
   "metadata": {},
   "source": [
    "**Q17:** In the cell below define a function that accepts two parameters: \n",
    "- a string, which will be `\"Left\"` or `\"Right\"`, indicating the lane that the car is in, and\n",
    "- a `Scenario` object, which describes the scenario.\n",
    "\n",
    "Your function should return the number of fatalities that would occur in the `Scenario` if the car is in the specified lane.."
   ]
  },
  {
   "cell_type": "code",
   "execution_count": null,
   "metadata": {},
   "outputs": [],
   "source": []
  },
  {
   "cell_type": "markdown",
   "metadata": {},
   "source": [
    "**Q18:** In the cell below, write a collection of tests that demonstrate that your function is working correctly.  To test the function thoroughly your function should achieve *statement coverage*. Note: You may use the same `Scenario` in more than one `assert`."
   ]
  },
  {
   "cell_type": "code",
   "execution_count": null,
   "metadata": {},
   "outputs": [],
   "source": []
  },
  {
   "cell_type": "markdown",
   "metadata": {
    "deletable": false,
    "editable": false
   },
   "source": [
    "**Q19:** In the cell below define a function that controls the car according to Bentham's utilitarian ethical principle.  This function accepts a `Scenario` object and returns either the string `\"Stay\"` or the string `\"Swerve\"` indicating if the car should stay in its lane or swerve into the other lane.  The function should assume that the car is in the left lane. "
   ]
  },
  {
   "cell_type": "code",
   "execution_count": null,
   "metadata": {},
   "outputs": [],
   "source": []
  },
  {
   "cell_type": "markdown",
   "metadata": {},
   "source": [
    "**Q20:** In the cell below, write a collection of tests that demonstrate that your function behaves correctly in a variety is situations."
   ]
  },
  {
   "cell_type": "code",
   "execution_count": null,
   "metadata": {},
   "outputs": [],
   "source": []
  },
  {
   "cell_type": "markdown",
   "metadata": {
    "deletable": false,
    "editable": false,
    "run_control": {
     "frozen": true
    }
   },
   "source": [
    "### A Kantian Car"
   ]
  },
  {
   "cell_type": "markdown",
   "metadata": {
    "deletable": false,
    "editable": false,
    "run_control": {
     "frozen": true
    }
   },
   "source": [
    "**Q21:** One interpretation (there are others) of Kant's ethical principle in the context of an autonomous car is that the car may never take an action that causes a fatality. As you have seen, there are scenarios in which there is no course of action that will avoid all fatalities. What must a car following Kant's ethical principle do in such a scenario?"
   ]
  },
  {
   "cell_type": "markdown",
   "metadata": {},
   "source": []
  },
  {
   "cell_type": "markdown",
   "metadata": {
    "deletable": false,
    "editable": false
   },
   "source": [
    "**Q22:** In the cell below, write a function that controls the car according to this interpretation of Kant's ethical principle. This function accepts a `Scenario` object and returns either the string `\"Stay\"` or the string `\"Swerve\"` indicating if the car should stay in its lane or swerve into the other lane.  The function should also assume that the car is in the left lane."
   ]
  },
  {
   "cell_type": "code",
   "execution_count": null,
   "metadata": {},
   "outputs": [],
   "source": []
  },
  {
   "cell_type": "markdown",
   "metadata": {
    "deletable": false,
    "editable": false,
    "run_control": {
     "frozen": true
    }
   },
   "source": [
    "**Q23:** In the cell below, write a collection of tests that demonstrate that your function behaves correctly in a variety is situations."
   ]
  },
  {
   "cell_type": "code",
   "execution_count": null,
   "metadata": {},
   "outputs": [],
   "source": []
  },
  {
   "cell_type": "markdown",
   "metadata": {
    "deletable": false,
    "editable": false,
    "run_control": {
     "frozen": true
    }
   },
   "source": [
    "## Exploring the Effects\n",
    "\n",
    "In the \"Should Your Driverless Car Hit a Pedestrian to Save Your Life?\" article and video people generally wanted a selfish car for themselves and a utilitarian car for everyone else.  Now that we have a car of each type we can explore the effects of these choices through Monte-Carlo simulations.\n",
    "\n",
    "\n",
    "\n"
   ]
  },
  {
   "cell_type": "markdown",
   "metadata": {},
   "source": [
    "**Q24:** Let's imagine that everyone acts on their on individual instincts and opts for a selfish car that preserves their lives at all costs.  In the cell below write a snippet of code that simulates 10000 randomized `Scenario`s using a selfish car and prints out the average number of fatalities per scenario."
   ]
  },
  {
   "cell_type": "code",
   "execution_count": null,
   "metadata": {},
   "outputs": [],
   "source": []
  },
  {
   "cell_type": "markdown",
   "metadata": {
    "deletable": false,
    "editable": false,
    "run_control": {
     "frozen": true
    }
   },
   "source": [
    "**Q25:** On the other hand, let's imagine that car manufacturers are legally required to build utilitarian cars that attempt to minimize fatalities but possibly sacrifice the passengers.  In the cell below write a snippet of code that simulates 10000 randomized `Scenario`s using a utilitarian car and prints out the average number of fatalities per scenario."
   ]
  },
  {
   "cell_type": "code",
   "execution_count": null,
   "metadata": {},
   "outputs": [],
   "source": []
  },
  {
   "cell_type": "markdown",
   "metadata": {
    "deletable": false,
    "editable": false,
    "run_control": {
     "frozen": true
    }
   },
   "source": [
    "**Q26:** The program in the cell below performs simulations that collect results and display a graph illustrating the relationship between fatalities and the percentage of the cars on the road that are selfish cars.  It assumes the remaining cars on the road are utilitarian cars. I.e. If 10% of the cars are selfish, then 90% will be utilitarian.\n",
    "\n",
    "Study the program below then copy it into a new cell and modify it to use the functions that you have written in the earlier exercises. Then run the cell to see the graph relating fatalities to the percentage of selfish cars on the road."
   ]
  },
  {
   "cell_type": "code",
   "execution_count": null,
   "metadata": {
    "deletable": false,
    "editable": false
   },
   "outputs": [],
   "source": [
    "import random\n",
    "from matplotlib.pyplot import *\n",
    "\n",
    "x=[]\n",
    "y=[]\n",
    "s = av.Scenario()\n",
    "pct_selfish=1\n",
    "for fract in range(100):  # fraction of selfish cars\n",
    "    total_dead = 0\n",
    "    for i in range(1000): # 1000 trials per fraction.\n",
    "        s.randomize()\n",
    "        if random.randint(1,100) < pct_selfish:   # Pick selfish or utilitarian with right fraction.\n",
    "            if (selfish_car(s) == \"Stay\"):\n",
    "                total_dead=total_dead + num_fatalities(\"Left\", s)\n",
    "            else: \n",
    "                total_dead=total_dead + num_fatalities(\"Right\", s)\n",
    "        else:\n",
    "            if (utilitarian_car(s) == \"Stay\"):\n",
    "                total_dead=total_dead + num_fatalities(\"Left\", s)\n",
    "            else: \n",
    "                total_dead=total_dead + num_fatalities(\"Right\", s)\n",
    "                \n",
    "    x.append(fract/100)\n",
    "    y.append(total_dead/1000)\n",
    "    \n",
    "    pct_selfish = pct_selfish+1\n",
    "    \n",
    "# Generate a plot of the x and y values.\n",
    "scatter(x, y,)                           # plot x and y.\n",
    "title(\"Fatalities Due to Selfish Cars\")  # Title for the plot.\n",
    "xlabel(\"Fraction of Selfish Cars\")       # Label the x axis.\n",
    "ylabel(\"Deaths/Scenario\")                # Label the y axis.\n",
    "grid(True)                               # Turn on the grid lines.\n",
    "show()                                   # Make the graph show up in the notebook."
   ]
  },
  {
   "cell_type": "markdown",
   "metadata": {
    "deletable": false,
    "editable": false,
    "run_control": {
     "frozen": true
    }
   },
   "source": [
    "**Q27:** Using evidence provided by results from the questions above explain which type of car would provide the most benefit to society as a whole."
   ]
  },
  {
   "cell_type": "markdown",
   "metadata": {},
   "source": []
  },
  {
   "cell_type": "markdown",
   "metadata": {},
   "source": [
    "**Q28:** Now consider not car/pedestrian interactions but car/car interactions. Do you think you would individually be safer in a selfish car or a utilitarian car?  Does your answer change if everyone else makes the same choice as you?  Explain."
   ]
  },
  {
   "cell_type": "markdown",
   "metadata": {},
   "source": []
  },
  {
   "cell_type": "markdown",
   "metadata": {},
   "source": [
    "**Q29:** Based on the above, who do you believe should decide a car's ethics (individual, government, manufacturers)?  Why?"
   ]
  },
  {
   "cell_type": "markdown",
   "metadata": {},
   "source": []
  },
  {
   "cell_type": "markdown",
   "metadata": {},
   "source": [
    "### Optional Extra Challenge"
   ]
  },
  {
   "cell_type": "markdown",
   "metadata": {},
   "source": [
    "Write a function that implements the policy that you would like your car to use.  Then compare the effect on society as a whole using a program similar to the one in __Q26__."
   ]
  },
  {
   "cell_type": "markdown",
   "metadata": {},
   "source": [
    "### Additional Information"
   ]
  },
  {
   "cell_type": "markdown",
   "metadata": {},
   "source": [
    "If you found the content of this lab interesting, you may also be interested in a TEDx talk on [The Social Dilemma of Driverless Cars](http://www.youtube.com/watch?v=nhCh1pBsS80) by the researcher who conducted the study discussed in the article above.  \n",
    "\n",
    "[![TEDx Talk on The Social Dilemma of Driverless Cars](http://img.youtube.com/vi/nhCh1pBsS80/0.jpg)](http://www.youtube.com/watch?v=nhCh1pBsS80)\n",
    "\n",
    "If you are interested in all of the details of the study you can read the full report on [The Social Dilemma of Driverless Cars](https://science.sciencemag.org/content/352/6293/1573) in Science magazine.\n",
    "\n",
    "If you are interested in some of the more technical details of how driverless cars work the New York Times has a nice article on [How Driverless Cars See the World Around Them](https://www.nytimes.com/2018/03/19/technology/how-driverless-cars-work.html)."
   ]
  },
  {
   "cell_type": "markdown",
   "metadata": {
    "deletable": false,
    "editable": false
   },
   "source": [
    "---\n",
    "\n",
    "![Creative Commons Attribution-NonCommercial-ShareAlike 4.0 International License](https://i.creativecommons.org/l/by-nc-sa/4.0/88x31.png \"Creative Commons Attribution-NonCommercial-ShareAlike 4.0 International License\") All textual materials used in this course are licensed under a [Creative Commons Attribution-NonCommercial-ShareAlike 4.0 International License](http://creativecommons.org/licenses/by-nc-sa/4.0/)\n",
    "\n",
    "![GPL V3 or Later](https://www.gnu.org/graphics/gplv3-or-later-sm.png \"GPL V3 or later\") All executable code used in this course is licensed under the [GNU General Public License Version 3 or later](https://www.gnu.org/licenses/gpl.txt)"
   ]
  }
 ],
 "metadata": {
  "kernelspec": {
   "display_name": "Python 3",
   "language": "python",
   "name": "python3"
  },
  "language_info": {
   "codemirror_mode": {
    "name": "ipython",
    "version": 3
   },
   "file_extension": ".py",
   "mimetype": "text/x-python",
   "name": "python",
   "nbconvert_exporter": "python",
   "pygments_lexer": "ipython3",
   "version": "3.7.3"
  }
 },
 "nbformat": 4,
 "nbformat_minor": 2
}

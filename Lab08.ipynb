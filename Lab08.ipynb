{
 "cells": [
  {
   "cell_type": "markdown",
   "metadata": {},
   "source": [
    "# LAB 08 - Ethical Issues with Driverless Vehicles  \n",
    "**COMP130 - Introduction to Computing**  \n",
    "**Dickinson College**  \n"
   ]
  },
  {
   "cell_type": "markdown",
   "metadata": {},
   "source": [
    "### Names:"
   ]
  },
  {
   "cell_type": "markdown",
   "metadata": {},
   "source": [
    "Solutions"
   ]
  },
  {
   "cell_type": "markdown",
   "metadata": {},
   "source": [
    "## Introduction:\n",
    "\n",
    "Most automobile manufacturers and many technology companies have been working on bringing driverless vehicles to the roads for many years now.  These vehicles hold the promise to dramatically decrease road congestion while also significantly reducing the number and severity of accidents. With these benefits comes the challenge of programming the vehicles to make ethical decisions in difficult situations that involve inevitable harm.  In this lab you will identify some of the factors that might go into those decisions and explore the social ramifications of how these decisions are made.\n",
    "\n",
    "## Pre-Lab Preparation:\n",
    "\n",
    "Before coming to lab watch the video and read the article [Should Your Driverless Car Hit a Pedestrian to Save Your Life?](https://www.nytimes.com/2016/06/24/technology/should-your-driverless-car-hit-a-pedestrian-to-save-your-life.html)\n",
    "\n",
    "[![Driverless Car](https://static01.nyt.com/images/2016/06/22/multimedia/autonomous-cars-ethics/autonomous-cars-ethics-mediumThreeByTwo440.jpg)](https://www.nytimes.com/2016/06/24/technology/should-your-driverless-car-hit-a-pedestrian-to-save-your-life.html)"
   ]
  },
  {
   "cell_type": "markdown",
   "metadata": {
    "deletable": false,
    "editable": false,
    "run_control": {
     "frozen": true
    }
   },
   "source": [
    "## Preliminary Questions:\n",
    "\n",
    "**Q1:** State and briefly explain the ethical principle proposed by Jeremy Bentham?"
   ]
  },
  {
   "cell_type": "markdown",
   "metadata": {},
   "source": [
    "Jeremy Bentham's ethical principle is called Utilitarianism and it holds that the ethical action is the one the produces the most good for the most people, or in his words \"the greatest good for the greatest number\"."
   ]
  },
  {
   "cell_type": "markdown",
   "metadata": {
    "deletable": false,
    "editable": false,
    "run_control": {
     "frozen": true
    }
   },
   "source": [
    "**Q2:** What does that principle suggest that a driverless car should do when faced with situation that involves inevitable harm? "
   ]
  },
  {
   "cell_type": "markdown",
   "metadata": {},
   "source": [
    "The Utilitarian principle suggests that the car should take the action the takes the least lives or causes the least harm."
   ]
  },
  {
   "cell_type": "markdown",
   "metadata": {
    "deletable": false,
    "editable": false,
    "run_control": {
     "frozen": true
    }
   },
   "source": [
    "**Q3:** State and briefly explain the ethical principle proposed by Immanuel Kant?"
   ]
  },
  {
   "cell_type": "markdown",
   "metadata": {},
   "source": [
    "Kant's ethical principle is called the The Categorical Imperative and it says that \"the right is superior to the good.\"  This suggests that there are moral absolutes that must be obeyed even if the outcome in a given scenario is not what you might imagine is best."
   ]
  },
  {
   "cell_type": "markdown",
   "metadata": {
    "deletable": false,
    "editable": false,
    "run_control": {
     "frozen": true
    }
   },
   "source": [
    "**Q4:** What does that ethical principle suggest that a driverless car should do when faced with a situation involving inevitable harm?"
   ]
  },
  {
   "cell_type": "markdown",
   "metadata": {},
   "source": [
    "Kant's principle suggests that the car must take no action, because taking an action would be a decision that takes a life and it is wrong to take a life.  Of course there those that argue, in the words of the [rock band Rush](https://www.youtube.com/watch?v=OnxkfLe4G74) that \"if you choose not to decide you sill have made a choice.\""
   ]
  },
  {
   "cell_type": "markdown",
   "metadata": {
    "deletable": false,
    "editable": false,
    "run_control": {
     "frozen": true
    }
   },
   "source": [
    "**Q5:** Consider the following four factors that might be considered when programming the behavior of a driverless car:\n",
    "\n",
    "- Saving more lives\n",
    "- Protecting passengers\n",
    "- Upholding the law\n",
    "- Avoiding Intervention\n",
    "\n",
    "Which of these factors are most consistent with Bentham's principle? Explain."
   ]
  },
  {
   "cell_type": "markdown",
   "metadata": {},
   "source": [
    "- Saving more lives - more lives saved is \"more good for more people\"\n",
    "- Protecting passengers - in the event that it does not cost more lives, protecting the passengers will save more lives."
   ]
  },
  {
   "cell_type": "markdown",
   "metadata": {
    "deletable": false,
    "editable": false,
    "run_control": {
     "frozen": true
    }
   },
   "source": [
    "**Q6:** Are the factors you did not consider in Q5 consistent with Kant's principle? Explain."
   ]
  },
  {
   "cell_type": "markdown",
   "metadata": {},
   "source": [
    "- Upholding the law - this fits the \"right is superior to the good\" idea with the notion that following the law is the right thing to do.\n",
    "- Avoiding Intervention - this also fits with the interpretation of Kant's principle that taking an action that causes harm is wrong, even if taking no action causes harm."
   ]
  },
  {
   "cell_type": "markdown",
   "metadata": {
    "deletable": false,
    "editable": false,
    "run_control": {
     "frozen": true
    }
   },
   "source": [
    "## Activity:\n",
    "\n",
    "The [Moral Machine](http://moralmachine.mit.edu/) is a site created by the researchers from the above videos to gather \"a human perspective on moral decisions made by machine intelligence, such as self-driving cars.\" The site presents a series of scenarios, like the one shown below in which there is inevitable harm and asks you what action a self-driving car should take in each. It then provides some summary information indicating what factors seemed to most influence your decisions. \n",
    "\n",
    "[![The Moral Machine](moralmachine.jpg)](http://moralmachine.mit.edu/)"
   ]
  },
  {
   "cell_type": "markdown",
   "metadata": {
    "deletable": false,
    "editable": false,
    "run_control": {
     "frozen": true
    }
   },
   "source": [
    "**Q7:** With your lab partner, use the Moral Machine site to judge a set of scenarios. Briefly describe any general rules that you and your partner used when judging the scenarios."
   ]
  },
  {
   "cell_type": "markdown",
   "metadata": {},
   "source": [
    "_Individual responses will vary._"
   ]
  },
  {
   "cell_type": "markdown",
   "metadata": {},
   "source": [
    "**Q8:** After you complete a set of scenarios The Moral Machine will indicate how much each of four factors from __Q5__ seem to matter in your judgments. Based on your results, list the four factors in order from _Mattered Most_ to _Mattered Least_."
   ]
  },
  {
   "cell_type": "markdown",
   "metadata": {},
   "source": [
    "_Individual responses will vary._"
   ]
  },
  {
   "cell_type": "markdown",
   "metadata": {
    "deletable": false,
    "editable": false,
    "run_control": {
     "frozen": true
    }
   },
   "source": [
    "**Q9:** Does the order of your list in **Q8** align more with Bentham or with Kant? Justify your answer."
   ]
  },
  {
   "cell_type": "markdown",
   "metadata": {},
   "source": [
    "_Individual responses will vary._"
   ]
  },
  {
   "cell_type": "markdown",
   "metadata": {},
   "source": [
    "## Modeling Scenarios:\n",
    "\n",
    "It is one thing for us as individuals to make judgments as you did with the Moral Machine, it is another to program those decisions into vehicles that will affect large numbers of people. Eventually we will be using Monte-Carlo simulations to explore the impact of encoding different ethical values into driverless cars. In order to do that we will need to model the scenarios that a driverless car might encounter.\n",
    "\n",
    "To do so this lab provides a module named `autonomous_vehicles` that contains an object named `Scenario`.  The `Scenario` object encapsulates information about the scenarios that our simulated self-driving cars will encounter. In particular it contains information about:\n",
    "- The number of passengers in the car.\n",
    "- The state of the left and right lanes including:\n",
    "  - whether a barrier exists in the lane.\n",
    "  - the number of pedestrians that will be killed if the car is in that lane.\n",
    "  - whether the pedestrian crossing signal for that lane is on or off.\n",
    "\n",
    "For the purposes of our simulations we will identify the lanes as left or right from the observer's perspective.  That is, in the images above the car and the barrier are in the left lane and the pedestrians are in the right lane.\n",
    "\n",
    "The code cell below imports the `autonomous_vehicles` module, creates a `Scenario` object and then outputs the result of calling each of the methods that the object supports. "
   ]
  },
  {
   "cell_type": "code",
   "execution_count": 3,
   "metadata": {
    "deletable": false,
    "editable": false
   },
   "outputs": [
    {
     "name": "stdout",
     "output_type": "stream",
     "text": [
      "Passengers: 3\n",
      "Left Lane:\n",
      "  Barrier exits:      True\n",
      "  Pedestrians:        0\n",
      "  Crossing signal on: False\n",
      "Right Lane:\n",
      "  Barrier exists:     False\n",
      "  Pedestrians:        5\n",
      "  Crossing signal on: True\n"
     ]
    }
   ],
   "source": [
    "import autonomous_vehicles as av\n",
    "\n",
    "s = av.Scenario(3, True, 0, False, False, 5, True)\n",
    "\n",
    "print (\"Passengers: \" + str(s.num_passengers()))\n",
    "print (\"Left Lane:\")\n",
    "print (\"  Barrier exits:      \" + str(s.left_barrier_exists()))\n",
    "print (\"  Pedestrians:        \" + str(s.left_num_pedestrians()))\n",
    "print (\"  Crossing signal on: \" + str(s.left_crossing_signal_on()))\n",
    "print (\"Right Lane:\")\n",
    "print (\"  Barrier exists:     \" + str(s.right_barrier_exists()))\n",
    "print (\"  Pedestrians:        \" + str(s.right_num_pedestrians()))\n",
    "print (\"  Crossing signal on: \" + str(s.right_crossing_signal_on()))"
   ]
  },
  {
   "cell_type": "markdown",
   "metadata": {},
   "source": [
    "**Q10:** Run the code in the above cell.  What do each of the parameters to the `Scenario` constructor indicate?"
   ]
  },
  {
   "cell_type": "markdown",
   "metadata": {},
   "source": [
    "The parameters in order indicate:\n",
    "- The number of passengers in the car.\n",
    "- If a barrier exists (`True`) or not (`False`) in the left lane.\n",
    "- The number of pedestrians in the left lane\n",
    "- Whether the crossing signal is on (`True`) or not (`False`) in the left lane.\n",
    "- The final 3 parameters repeat the previous 3 but for the right lane."
   ]
  },
  {
   "cell_type": "markdown",
   "metadata": {},
   "source": [
    "**Q11:** In the cell below, give a statement that constructs a `Scenario` object representing the scene shown in the Moral Machine image above?"
   ]
  },
  {
   "cell_type": "code",
   "execution_count": 4,
   "metadata": {},
   "outputs": [],
   "source": [
    "s = av.Scenario(5, True, 0, False, False, 2, False)"
   ]
  },
  {
   "cell_type": "markdown",
   "metadata": {},
   "source": [
    "In order to perform Monte-Carlo simulations we will need to have lots of different scenarios.  To facilitate this the  `Scenario` class has a method named `randomize()`.  This method randomizes the values in a `Scenario` object. The `randomize()` method also ensures that the the object is consistent (e.g. if there is a barrier there will not be any pedestrians, etc.)."
   ]
  },
  {
   "cell_type": "code",
   "execution_count": 93,
   "metadata": {
    "deletable": false,
    "editable": false
   },
   "outputs": [
    {
     "name": "stdout",
     "output_type": "stream",
     "text": [
      "Passengers: 3\n",
      "Left Lane:\n",
      "  Barrier exits:      False\n",
      "  Pedestrians:        1\n",
      "  Crossing signal on: True\n",
      "Right Lane:\n",
      "  Barrier exists:     True\n",
      "  Pedestrians:        0\n",
      "  Crossing signal on: False\n"
     ]
    }
   ],
   "source": [
    "s.randomize()\n",
    "\n",
    "print (\"Passengers: \" + str(s.num_passengers()))\n",
    "print (\"Left Lane:\")\n",
    "print (\"  Barrier exits:      \" + str(s.left_barrier_exists()))\n",
    "print (\"  Pedestrians:        \" + str(s.left_num_pedestrians()))\n",
    "print (\"  Crossing signal on: \" + str(s.left_crossing_signal_on()))\n",
    "print (\"Right Lane:\")\n",
    "print (\"  Barrier exists:     \" + str(s.right_barrier_exists()))\n",
    "print (\"  Pedestrians:        \" + str(s.right_num_pedestrians()))\n",
    "print (\"  Crossing signal on: \" + str(s.right_crossing_signal_on()))"
   ]
  },
  {
   "cell_type": "markdown",
   "metadata": {
    "deletable": false,
    "editable": false,
    "run_control": {
     "frozen": true
    }
   },
   "source": [
    "**Q12:** Run the code in the above cell over and over again. What are the smallest and largest numbers of passengers and pedestrians that appear?"
   ]
  },
  {
   "cell_type": "markdown",
   "metadata": {},
   "source": [
    "- From 1 to 5 passengers appear.\n",
    "- From 0 to 7 pedestrians appear."
   ]
  },
  {
   "cell_type": "markdown",
   "metadata": {
    "deletable": false,
    "editable": false,
    "run_control": {
     "frozen": true
    }
   },
   "source": [
    "**Q13:** Are there ever pedestrians in a lane when there is a barrier in that lane?"
   ]
  },
  {
   "cell_type": "markdown",
   "metadata": {},
   "source": [
    "No, if there is a barrier in a lane there will always be 0 pedestrians in that lane."
   ]
  },
  {
   "cell_type": "markdown",
   "metadata": {},
   "source": [
    "**Q14:** Does a `Scenario` ever occur in which there is a barrier in both lanes?"
   ]
  },
  {
   "cell_type": "markdown",
   "metadata": {},
   "source": [
    "No, there are no `Scenario`s in which there are barriers in both lanes."
   ]
  },
  {
   "cell_type": "markdown",
   "metadata": {
    "deletable": false,
    "editable": false,
    "run_control": {
     "frozen": true
    }
   },
   "source": [
    "## Encoding Ethics\n",
    "\n",
    "Now that we have a way to model scenarios, you will write code to simulate the decisions a driverless car might make based on different ethical principles."
   ]
  },
  {
   "cell_type": "markdown",
   "metadata": {
    "deletable": false,
    "editable": false,
    "run_control": {
     "frozen": true
    }
   },
   "source": [
    "### A Selfish Car"
   ]
  },
  {
   "cell_type": "markdown",
   "metadata": {},
   "source": [
    "**Q15:** In the cell below define a function that controls the car so that it preserves the passenger's lives at all cost.  This function accepts a _Scenario_ object and returns either the string `\"Stay\"` or the string `\"Swerve\"` indicating if the car should stay in its lane or swerve into the other lane.  The function should assume that the car is in the left lane. "
   ]
  },
  {
   "cell_type": "code",
   "execution_count": 7,
   "metadata": {},
   "outputs": [],
   "source": [
    "def selfish_car(s):\n",
    "    if (s.left_barrier_exists()):  # Barrier on left so not one on the right.\n",
    "        return \"Swerve\"\n",
    "    else:\n",
    "        return \"Stay\"  # Could do either if no barriers. "
   ]
  },
  {
   "cell_type": "markdown",
   "metadata": {
    "deletable": false,
    "editable": false,
    "run_control": {
     "frozen": true
    }
   },
   "source": [
    "The cell below contains a test that partially checks that your function is working correctly."
   ]
  },
  {
   "cell_type": "code",
   "execution_count": 3,
   "metadata": {
    "deletable": false,
    "editable": false
   },
   "outputs": [
    {
     "name": "stdout",
     "output_type": "stream",
     "text": [
      "Success!\n"
     ]
    }
   ],
   "source": [
    "import autonomous_vehicles as av\n",
    "\n",
    "s = av.Scenario(3, False, 5, True, True, 0, True)\n",
    "assert selfish_car(s) == \"Stay\", \"Swerved but should have stayed.\"\n",
    "print(\"Success!\")"
   ]
  },
  {
   "cell_type": "markdown",
   "metadata": {
    "deletable": false,
    "editable": false,
    "run_control": {
     "frozen": true
    }
   },
   "source": [
    "**Q16:** In the cell below add a test for another `Scenario` that tests the \"Swerve\" behavior of your selfish car."
   ]
  },
  {
   "cell_type": "code",
   "execution_count": 95,
   "metadata": {},
   "outputs": [
    {
     "name": "stdout",
     "output_type": "stream",
     "text": [
      "Success!\n"
     ]
    }
   ],
   "source": [
    "s = av.Scenario(3, True, 0, True, False, 6, True)\n",
    "assert selfish_car(s) == \"Swerve\", \"Stayed but should have swerved.\"\n",
    "print(\"Success!\")"
   ]
  },
  {
   "cell_type": "markdown",
   "metadata": {
    "deletable": false,
    "editable": false
   },
   "source": [
    "### A Utilitarian Car\n",
    "\n",
    "Next you will be writing a function that makes decisions based on Bentham's utilitarian principle. Because this principle will choose the option with the fewest fatalities we will need to be able to compare the number of fatalities that occur when the car \"Stays\" and when it \"Swerves.\"  So thinking ahead, its not hard to imagine that a function could help us with that.  So we'll make use of functional decomposition here and create a function that evaluates a `Scenario` and returns the number of fatalities that will occur."
   ]
  },
  {
   "cell_type": "markdown",
   "metadata": {},
   "source": [
    "**Q17:** In the cell below define a function that accepts two parameters: \n",
    "- a string, which will be `\"Left\"` or `\"Right\"`, indicating the lane that the car is in, and\n",
    "- a `Scenario` object, which describes the scenario.\n",
    "\n",
    "Your function should return the number of fatalities that would occur in the `Scenario` if the car is in the specified lane.."
   ]
  },
  {
   "cell_type": "code",
   "execution_count": 8,
   "metadata": {},
   "outputs": [],
   "source": [
    "def num_fatalities(lane, s):\n",
    "    if (lane == \"Left\"):\n",
    "        if (s.left_barrier_exists()):\n",
    "            return s.num_passengers()\n",
    "        else:\n",
    "            return s.left_num_pedestrians()\n",
    "    else:\n",
    "        if (s.right_barrier_exists()):\n",
    "            return s.num_passengers()\n",
    "        else:\n",
    "            return s.right_num_pedestrians()"
   ]
  },
  {
   "cell_type": "markdown",
   "metadata": {},
   "source": [
    "**Q18:** In the cell below, write a collection of tests that demonstrate that your function is working correctly.  To test the function thoroughly your function should achieve *statement coverage*. Note: You may use the same `Scenario` in more than one `assert`."
   ]
  },
  {
   "cell_type": "code",
   "execution_count": 96,
   "metadata": {},
   "outputs": [
    {
     "name": "stdout",
     "output_type": "stream",
     "text": [
      "Success!\n"
     ]
    }
   ],
   "source": [
    "s = av.Scenario(3, False, 5, True, False, 6, True)\n",
    "assert num_fatalities(\"Left\", s) == 5, \"Incorrect number of fatalities.\"\n",
    "assert num_fatalities(\"Right\", s) == 6, \"Incorrect number of fatalities.\"\n",
    "\n",
    "s = av.Scenario(3, True, 0, False, True, 0, False)\n",
    "assert num_fatalities(\"Left\", s) == 3, \"Incorrect number of fatalities.\"\n",
    "assert num_fatalities(\"Right\", s) == 3, \"Incorrect number of fatalities.\"\n",
    "print(\"Success!\")"
   ]
  },
  {
   "cell_type": "markdown",
   "metadata": {
    "deletable": false,
    "editable": false
   },
   "source": [
    "**Q19:** In the cell below define a function that controls the car according to Bentham's utilitarian ethical principle.  This function accepts a `Scenario` object and returns either the string `\"Stay\"` or the string `\"Swerve\"` indicating if the car should stay in its lane or swerve into the other lane.  The function should assume that the car is in the left lane. "
   ]
  },
  {
   "cell_type": "code",
   "execution_count": 9,
   "metadata": {},
   "outputs": [],
   "source": [
    "def utilitarian_car(s):\n",
    "    stay_count = num_fatalities(\"Left\", s)\n",
    "    swerve_count = num_fatalities(\"Right\", s)   \n",
    "    if (stay_count <= swerve_count):  # Note tie can go either way\n",
    "        return \"Stay\"\n",
    "    else:\n",
    "        return \"Swerve\""
   ]
  },
  {
   "cell_type": "markdown",
   "metadata": {},
   "source": [
    "**Q20:** In the cell below, write a collection of tests that demonstrate that your function behaves correctly in a variety is situations."
   ]
  },
  {
   "cell_type": "code",
   "execution_count": 97,
   "metadata": {},
   "outputs": [
    {
     "name": "stdout",
     "output_type": "stream",
     "text": [
      "Success!\n"
     ]
    }
   ],
   "source": [
    "s = av.Scenario(3, False, 5, True, False, 2, True)\n",
    "assert utilitarian_car(s) == \"Swerve\", \"Stayed but should have swerved.\"\n",
    "s = av.Scenario(3, False, 2, True, False, 5, True)\n",
    "assert utilitarian_car(s) == \"Stay\", \"Swerved but should have stayed.\"\n",
    "s = av.Scenario(3, True, 0, True, False, 7, True)\n",
    "assert utilitarian_car(s) == \"Stay\", \"Swerved but should have stayed.\"\n",
    "s = av.Scenario(3, False, 5, True, True, 0, True)\n",
    "assert utilitarian_car(s) == \"Swerve\", \"Stayed but should have swerved.\"\n",
    "print(\"Success!\")"
   ]
  },
  {
   "cell_type": "markdown",
   "metadata": {
    "deletable": false,
    "editable": false,
    "run_control": {
     "frozen": true
    }
   },
   "source": [
    "### A Kantian Car"
   ]
  },
  {
   "cell_type": "markdown",
   "metadata": {
    "deletable": false,
    "editable": false,
    "run_control": {
     "frozen": true
    }
   },
   "source": [
    "**Q21:** One interpretation (there are others) of Kant's ethical principle in the context of an autonomous car is that the car may never take an action that causes a fatality. As you have seen, there are scenarios in which there is no course of action that will avoid all fatalities. What must a car following Kant's ethical principle do in such a scenario?"
   ]
  },
  {
   "cell_type": "markdown",
   "metadata": {},
   "source": []
  },
  {
   "cell_type": "markdown",
   "metadata": {
    "deletable": false,
    "editable": false
   },
   "source": [
    "**Q22:** In the cell below, write a function that controls the car according to this interpretation of Kant's ethical principle. This function accepts a `Scenario` object and returns either the string `\"Stay\"` or the string `\"Swerve\"` indicating if the car should stay in its lane or swerve into the other lane.  The function should also assume that the car is in the left lane."
   ]
  },
  {
   "cell_type": "code",
   "execution_count": 98,
   "metadata": {},
   "outputs": [],
   "source": [
    "def kantian_car(s):\n",
    "    stay_count = num_fatalities(\"Left\", s)\n",
    "    swerve_count = num_fatalities(\"Right\", s)   \n",
    "    if (stay_count != 0 and swerve_count == 0):\n",
    "        return \"Swerve\"\n",
    "    else:\n",
    "        return \"Stay\""
   ]
  },
  {
   "cell_type": "markdown",
   "metadata": {
    "deletable": false,
    "editable": false,
    "run_control": {
     "frozen": true
    }
   },
   "source": [
    "**Q23:** In the cell below, write a collection of tests that demonstrate that your function behaves correctly in a variety is situations."
   ]
  },
  {
   "cell_type": "code",
   "execution_count": 99,
   "metadata": {},
   "outputs": [
    {
     "name": "stdout",
     "output_type": "stream",
     "text": [
      "Success!\n"
     ]
    }
   ],
   "source": [
    "# 16 possible cases here.  2 * 3 * 3\n",
    "# 2 - passengers / no passengers.\n",
    "# 3 - right barrier / no pedestrians / pedestrians\n",
    "# 3 - left same as the right.\n",
    "# It is not the expectation that all of these are tested.\n",
    "\n",
    "s = av.Scenario(0, True, 0, False, False, 0, False) # This one could go either way\n",
    "assert kantian_car(s) == \"Stay\", \"Swerved, should have stayed.\" \n",
    "s = av.Scenario(3, True, 0, False, False, 0, False) \n",
    "assert kantian_car(s) == \"Swerve\", \"Stayed, should have swerved.\" \n",
    "s = av.Scenario(0, True, 0, False, False, 3, False) \n",
    "assert kantian_car(s) == \"Stay\", \"Swerved, should have stayed.\" \n",
    "s = av.Scenario(3, True, 0, False, False, 3, False) \n",
    "assert kantian_car(s) == \"Stay\", \"Swerved, should have stayed.\" \n",
    "\n",
    "s = av.Scenario(0, False, 0, False, True, 0, False) \n",
    "assert kantian_car(s) == \"Stay\", \"Swerved, should have stayed.\" \n",
    "s = av.Scenario(3, False, 0, False, True, 0, False) \n",
    "assert kantian_car(s) == \"Stay\", \"Swerved, should have stayed.\" \n",
    "s = av.Scenario(0, False, 3, False, True, 0, False) \n",
    "assert kantian_car(s) == \"Swerve\", \"Stayed, should have swerved.\" \n",
    "s = av.Scenario(3, False, 3, False, True, 0, False) \n",
    "assert kantian_car(s) == \"Stay\", \"Swerved, should have stayed.\" \n",
    "\n",
    "s = av.Scenario(0, False, 0, False, False, 0, False) \n",
    "assert kantian_car(s) == \"Stay\", \"Swerved, should have stayed.\" \n",
    "s = av.Scenario(3, False, 0, False, False, 0, False) \n",
    "assert kantian_car(s) == \"Stay\", \"Swerved, should have stayed.\" \n",
    "s = av.Scenario(0, False, 3, False, False, 0, False) \n",
    "assert kantian_car(s) == \"Swerve\", \"Stayed, should have swerved.\" \n",
    "s = av.Scenario(3, False, 3, False, False, 0, False) \n",
    "assert kantian_car(s) == \"Swerve\", \"Stayed, should have swerved.\" \n",
    "\n",
    "s = av.Scenario(0, False, 0, False, False, 3, False) \n",
    "assert kantian_car(s) == \"Stay\", \"Swerved, should have stayed.\" \n",
    "s = av.Scenario(0, False, 3, False, False, 3, False) \n",
    "assert kantian_car(s) == \"Stay\", \"Swerved, should have stayed.\" \n",
    "s = av.Scenario(3, False, 3, False, False, 3, False) \n",
    "assert kantian_car(s) == \"Stay\", \"Swerved, should have stayed.\" \n",
    "s = av.Scenario(3, False, 0, False, False, 3, False) \n",
    "assert kantian_car(s) == \"Stay\", \"Swerved, should have stayed.\" \n",
    "\n",
    "print(\"Success!\")"
   ]
  },
  {
   "cell_type": "markdown",
   "metadata": {
    "deletable": false,
    "editable": false,
    "run_control": {
     "frozen": true
    }
   },
   "source": [
    "## Exploring the Effects\n",
    "\n",
    "In the \"Should Your Driverless Car Hit a Pedestrian to Save Your Life?\" article and video people generally wanted a selfish car for themselves and a utilitarian car for everyone else.  Now that we have a car of each type we can explore the effects of these choices through Monte-Carlo simulations.\n",
    "\n",
    "\n",
    "\n"
   ]
  },
  {
   "cell_type": "markdown",
   "metadata": {},
   "source": [
    "**Q24:** Let's imagine that everyone acts on their on individual instincts and opts for a selfish car that preserves their lives at all costs.  In the cell below write a snippet of code that simulates 10000 randomized `Scenario`s using a selfish car and prints out the average number of fatalities per scenario."
   ]
  },
  {
   "cell_type": "code",
   "execution_count": 100,
   "metadata": {},
   "outputs": [
    {
     "name": "stdout",
     "output_type": "stream",
     "text": [
      "Selfish car fatalities per scenario: 3.4971\n"
     ]
    }
   ],
   "source": [
    "total=0\n",
    "s = av.Scenario()\n",
    "for i in range(10000):\n",
    "    s.randomize()\n",
    "    if (selfish_car(s) == \"Stay\"):\n",
    "        total=total + num_fatalities(\"Left\", s)\n",
    "    else: \n",
    "        total=total + num_fatalities(\"Right\", s)\n",
    "        \n",
    "print(\"Selfish car fatalities per scenario: \" + str(total/10000))"
   ]
  },
  {
   "cell_type": "markdown",
   "metadata": {
    "deletable": false,
    "editable": false,
    "run_control": {
     "frozen": true
    }
   },
   "source": [
    "**Q25:** On the other hand, let's imagine that car manufacturers are legally required to build utilitarian cars that attempt to minimize fatalities but possibly sacrifice the passengers.  In the cell below write a snippet of code that simulates 10000 randomized `Scenario`s using a utilitarian car and prints out the average number of fatalities per scenario."
   ]
  },
  {
   "cell_type": "code",
   "execution_count": 101,
   "metadata": {},
   "outputs": [
    {
     "name": "stdout",
     "output_type": "stream",
     "text": [
      "Utilitarian car fatalities per scenario: 2.1525\n"
     ]
    }
   ],
   "source": [
    "total=0\n",
    "s = av.Scenario()\n",
    "for i in range(10000):\n",
    "    s.randomize()\n",
    "    if (utilitarian_car(s) == \"Stay\"):\n",
    "        total=total + num_fatalities(\"Left\", s)\n",
    "    else: \n",
    "        total=total + num_fatalities(\"Right\", s)\n",
    "        \n",
    "print(\"Utilitarian car fatalities per scenario: \" + str(total/10000))"
   ]
  },
  {
   "cell_type": "markdown",
   "metadata": {
    "deletable": false,
    "editable": false,
    "run_control": {
     "frozen": true
    }
   },
   "source": [
    "**Q26:** The program in the cell below performs simulations that collect results and display a graph illustrating the relationship between fatalities and the percentage of the cars on the road that are selfish cars.  It assumes the remaining cars on the road are utilitarian cars. I.e. If 10% of the cars are selfish, then 90% will be utilitarian.\n",
    "\n",
    "Study the program below and modify it to use the functions that you have written in the earlier exercises. Then run the cell to see the graph relating fatalities to the percentage of selfish cars on the road."
   ]
  },
  {
   "cell_type": "code",
   "execution_count": 103,
   "metadata": {},
   "outputs": [
    {
     "data": {
      "image/png": "[encoded data removed]",
      "text/plain": [
       "<Figure size 432x288 with 1 Axes>"
      ]
     },
     "metadata": {
      "needs_background": "light"
     },
     "output_type": "display_data"
    }
   ],
   "source": [
    "import random\n",
    "from matplotlib.pyplot import *\n",
    "\n",
    "x=[]\n",
    "y=[]\n",
    "s = av.Scenario()\n",
    "pct_selfish=1\n",
    "for fract in range(100):  # fraction of selfish cars\n",
    "    total_dead = 0\n",
    "    for i in range(1000): # 1000 trials per fraction.\n",
    "        s.randomize()\n",
    "        if random.randint(1,100) < pct_selfish:   # Pick selfish or utilitarian with right fraction.\n",
    "            if (selfish_car(s) == \"Stay\"):\n",
    "                total_dead=total_dead + num_fatalities(\"Left\", s)\n",
    "            else: \n",
    "                total_dead=total_dead + num_fatalities(\"Right\", s)\n",
    "        else:\n",
    "            if (utilitarian_car(s) == \"Stay\"):\n",
    "                total_dead=total_dead + num_fatalities(\"Left\", s)\n",
    "            else: \n",
    "                total_dead=total_dead + num_fatalities(\"Right\", s)\n",
    "                \n",
    "    x.append(fract/100)\n",
    "    y.append(total_dead/1000)\n",
    "    \n",
    "    pct_selfish = pct_selfish+1\n",
    "    \n",
    "# Generate a plot of the x and y values.\n",
    "scatter(x, y,)                           # plot x and y.\n",
    "title(\"Fatalities Due to Selfish Cars\")  # Title for the plot.\n",
    "xlabel(\"Fraction of Selfish Cars\")       # Label the x axis.\n",
    "ylabel(\"Deaths/Scenario\")                # Label the y axis.\n",
    "grid(True)                               # Turn on the grid lines.\n",
    "show()                                   # Make the graph show up in the notebook."
   ]
  },
  {
   "cell_type": "markdown",
   "metadata": {
    "deletable": false,
    "editable": false,
    "run_control": {
     "frozen": true
    }
   },
   "source": [
    "**Q27:** Using evidence provided by results from the questions above explain which type of car would provide the most benefit to society as a whole?"
   ]
  },
  {
   "cell_type": "markdown",
   "metadata": {},
   "source": [
    "The graph above illustrates a direct relationship between the fraction of selfish cars on the road and the number of fatalities.  That is as the number of selfish cars goes up, relative to utilitarian cars, the number of deaths also goes up.  Thus, it seems that having more utilitarian cars on the road would provide the most benefit to society as a whole.  "
   ]
  },
  {
   "cell_type": "markdown",
   "metadata": {},
   "source": [
    "**Q28:** Now consider not car/pedestrian interactions but car/car interactions. Do you think you would individually be safer in a selfish car or a utilitarian car?  Does your answer change if everyone else makes the same choice as you?  Explain."
   ]
  },
  {
   "cell_type": "markdown",
   "metadata": {},
   "source": [
    "Initially the thought is that I would be safer in a selfish car. This seems true from a \"me\" centric view, my car will protect me.  However, if everyone else has made the same decision, their cars will be protecting them also. So if everyone is driving selfish cars then I will be more likely to be targeted by someone else's car in its efforts to protect them. As the graph then shows, if I am involved in an accident, the more selfish cars there are the more likely I will be to be killed (or harmed).  Thus, it seems that I would be safer in a utilitarian car, assuming everyone else made the same decision as me. "
   ]
  },
  {
   "cell_type": "markdown",
   "metadata": {},
   "source": [
    "**Q29:** Based on the above, who do you believe should decide a car's ethics (individual, government, manufacturers)?  Why?"
   ]
  },
  {
   "cell_type": "markdown",
   "metadata": {},
   "source": [
    "_Individual answers will vary._"
   ]
  },
  {
   "cell_type": "markdown",
   "metadata": {},
   "source": [
    "### Additional Information"
   ]
  },
  {
   "cell_type": "markdown",
   "metadata": {},
   "source": [
    "If you found the content of this lab interesting, you may also be interested in a TEDx talk on [The Social Dilemma of Driverless Cars](http://www.youtube.com/watch?v=nhCh1pBsS80) by the researcher who conducted the study discussed in the article above.  \n",
    "\n",
    "[![TEDx Talk on The Social Dilemma of Driverless Cars](http://img.youtube.com/vi/nhCh1pBsS80/0.jpg)](http://www.youtube.com/watch?v=nhCh1pBsS80)\n",
    "\n",
    "If you are interested in all of the details of the study you can read the full report on [The Social Dilemma of Driverless Cars](https://science.sciencemag.org/content/352/6293/1573) in Science magazine.\n",
    "\n",
    "If you are interested in some of the more technical details of how driverless cars work the New York Times has a nice article on [How Driverless Cars See the World Around Them](https://www.nytimes.com/2018/03/19/technology/how-driverless-cars-work.html)."
   ]
  },
  {
   "cell_type": "markdown",
   "metadata": {
    "deletable": false,
    "editable": false
   },
   "source": [
    "---\n",
    "\n",
    "![Creative Commons Attribution-NonCommercial-ShareAlike 4.0 International License](https://i.creativecommons.org/l/by-nc-sa/4.0/88x31.png \"Creative Commons Attribution-NonCommercial-ShareAlike 4.0 International License\") All textual materials used in this course are licensed under a [Creative Commons Attribution-NonCommercial-ShareAlike 4.0 International License](http://creativecommons.org/licenses/by-nc-sa/4.0/)\n",
    "\n",
    "![GPL V3 or Later](https://www.gnu.org/graphics/gplv3-or-later-sm.png \"GPL V3 or later\") All executable code used in this course is licensed under the [GNU General Public License Version 3 or later](https://www.gnu.org/licenses/gpl.txt)"
   ]
  }
 ],
 "metadata": {
  "kernelspec": {
   "display_name": "Python 3",
   "language": "python",
   "name": "python3"
  },
  "language_info": {
   "codemirror_mode": {
    "name": "ipython",
    "version": 3
   },
   "file_extension": ".py",
   "mimetype": "text/x-python",
   "name": "python",
   "nbconvert_exporter": "python",
   "pygments_lexer": "ipython3",
   "version": "3.7.3"
  }
 },
 "nbformat": 4,
 "nbformat_minor": 2
}
